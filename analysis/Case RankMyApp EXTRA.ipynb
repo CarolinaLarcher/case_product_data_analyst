{
 "cells": [
  {
   "cell_type": "code",
   "execution_count": 2,
   "id": "2a216dcb-a8dc-4c5b-8031-2bc62bf5ad81",
   "metadata": {},
   "outputs": [],
   "source": [
    "import pandas as pd\n",
    "import re\n",
    "import numpy as np\n",
    "import google.generativeai as genai\n",
    "from datetime import datetime, timedelta\n",
    "import matplotlib.pyplot as plt\n",
    "import csv\n",
    "import mysql.connector"
   ]
  },
  {
   "cell_type": "markdown",
   "id": "104ebcea-bb24-4092-9182-5e240496dec2",
   "metadata": {},
   "source": [
    "Fiquei em dúvida se a ideia do exercício era pegar o CSV do programa MySQL (que foi como fiz no código principal), ou se era utilizar python para puxar esses dados também.\n",
    "\n",
    "Quando tive essa dúvida, já tinha terminado meu código principal. Então decidi trazer esse código extra para demonstrar como eu faria para extrair os dados do MySQL direto com python."
   ]
  },
  {
   "cell_type": "code",
   "execution_count": 4,
   "id": "bec4519a-eef8-4bf9-ab2a-dbfa22a636a4",
   "metadata": {},
   "outputs": [],
   "source": [
    "# Conectando ao banco de dados MySQL\n",
    "conexao = mysql.connector.connect(\n",
    "    host=\"185.213.26.130\",           # Ex: \"localhost\"\n",
    "    user=\"case_data_analyst\",        # Ex: \"root\"\n",
    "    password=\"LK[5l4o)HALCQaMf\",      # Senha do seu usuário\n",
    "    database=\"case_data_analyst\", # Nome do banco de dados que deseja acessar\n",
    "    port=6033\n",
    ")\n",
    "\n",
    "# Criando um cursor para executar comandos SQL\n",
    "cursor = conexao.cursor()\n",
    "\n",
    "# Executando uma consulta SQL\n",
    "cursor.execute(\"select * from case_data_analyst.reviews where date > '2024-07-01' order by date desc\")\n",
    "\n",
    "# Coletando os resultados da consulta\n",
    "resultados = cursor.fetchall()\n",
    "\n",
    "# Coletando os nomes das colunas\n",
    "colunas = [desc[0] for desc in cursor.description]\n",
    "\n",
    "# Convertendo para DataFrame\n",
    "df = pd.DataFrame(resultados, columns=colunas)\n",
    "\n",
    "df.to_csv('base de dados.csv', index=False)\n",
    "\n",
    "# Fechando a conexão\n",
    "cursor.close()\n",
    "conexao.close()"
   ]
  },
  {
   "cell_type": "code",
   "execution_count": null,
   "id": "5eeeb3c7-b347-4459-8238-1dbe0f3f64cf",
   "metadata": {},
   "outputs": [],
   "source": []
  }
 ],
 "metadata": {
  "kernelspec": {
   "display_name": "Python 3 (ipykernel)",
   "language": "python",
   "name": "python3"
  },
  "language_info": {
   "codemirror_mode": {
    "name": "ipython",
    "version": 3
   },
   "file_extension": ".py",
   "mimetype": "text/x-python",
   "name": "python",
   "nbconvert_exporter": "python",
   "pygments_lexer": "ipython3",
   "version": "3.11.5"
  }
 },
 "nbformat": 4,
 "nbformat_minor": 5
}
